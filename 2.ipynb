{
 "cells": [
  {
   "cell_type": "code",
   "execution_count": null,
   "metadata": {},
   "outputs": [],
   "source": [
    "from math import pi\n",
    "r = float(input (\"input the radius of the circle : \"))\n",
    "print (\"the area of the circle with radius \" + str(r) + \" is: \" + str (pi * r**2) + \" cm \")"
   ]
  },
  {
   "cell_type": "code",
   "execution_count": 1,
   "metadata": {},
   "outputs": [
    {
     "name": "stdout",
     "output_type": "stream",
     "text": [
      "Fibonacci sequence:\n",
      "0\n",
      "1\n",
      "1\n",
      "2\n",
      "3\n",
      "5\n",
      "8\n"
     ]
    }
   ],
   "source": [
    "# Program to display the Fibonacci sequence up to n-th term\n",
    "\n",
    "nterms = int(input(\"How many terms? \"))\n",
    "\n",
    "# first two terms\n",
    "n1, n2 = 0, 1\n",
    "count = 0\n",
    "\n",
    "# check if the number of terms is valid\n",
    "if nterms <= 0:\n",
    "   print(\"Please enter a positive integer\")\n",
    "# if there is only one term, return n1\n",
    "elif nterms == 1:\n",
    "   print(\"Fibonacci sequence upto\",nterms,\":\")\n",
    "   print(n1)\n",
    "# generate fibonacci sequence\n",
    "else:\n",
    "   print(\"Fibonacci sequence:\")\n",
    "   while count < nterms:\n",
    "       print(n1)\n",
    "       nth = n1 + n2\n",
    "       # update values\n",
    "       n1 = n2\n",
    "       n2 = nth\n",
    "       count += 1"
   ]
  },
  {
   "cell_type": "code",
   "execution_count": null,
   "metadata": {},
   "outputs": [],
   "source": [
    "# program to display the fibonacci sequence upto nth term\n",
    "\n",
    "nterms = int(input('how many terms ?'))\n",
    "\n",
    "# first two terms\n",
    "n1,n2 = 0,1\n",
    "count = 0\n",
    "\n",
    "# chech if the number of terms is valid\n",
    "if nterms <= 0 :\n",
    " print('please enter a positive number')\n",
    " # if there is only one term, return n1   \n",
    "elif nterms == 1 :\n",
    " print(n1)\n",
    " # generate fibonacci sequence \n",
    "else : \n",
    " print(\"fabpnacci sequence is :\")\n",
    " while count < nterms: \n",
    "  print(n1)\n",
    " nth = n1 + n2\n",
    " n1 = n2\n",
    " n2 = nth\n",
    " count += 1"
   ]
  },
  {
   "cell_type": "code",
   "execution_count": null,
   "metadata": {},
   "outputs": [],
   "source": [
    "count=int(input(\"input the number\"))\n",
    "if count>5:\n",
    "    print('ff')\n",
    "if count >15:\n",
    "    print('hhh')\n",
    "if count%2==0:\n",
    "    print(\"odd\")\n"
   ]
  },
  {
   "cell_type": "code",
   "execution_count": null,
   "metadata": {},
   "outputs": [],
   "source": [
    "a=10\n",
    "b=5\n",
    "c=3\n",
    "if a>b and a>c:\n",
    "    print(f'{a=} is greater')\n",
    "if b>c and b>a:\n",
    "    print(f'{b=} is greater')\n",
    "if c>a and c>b:\n",
    "    print(f'{c=} is greater ')    "
   ]
  },
  {
   "cell_type": "code",
   "execution_count": null,
   "metadata": {},
   "outputs": [],
   "source": [
    "a=float(input('enter the first value'))\n",
    "b=float(input('enter the second value'))\n",
    "if a>b:\n",
    "    print('samit is genious')\n",
    "else:\n",
    "    print('samit is genious anyways')"
   ]
  },
  {
   "cell_type": "code",
   "execution_count": 5,
   "metadata": {},
   "outputs": [
    {
     "data": {
      "text/plain": [
       "5"
      ]
     },
     "execution_count": 5,
     "metadata": {},
     "output_type": "execute_result"
    }
   ],
   "source": [
    "jj=('app','aoa','ajsj','hhd','jjd')\n",
    "len(jj)\n"
   ]
  },
  {
   "cell_type": "code",
   "execution_count": null,
   "metadata": {},
   "outputs": [],
   "source": [
    "username=input('enter your name')\n",
    "email=input('enter your email')\n",
    "pwd=input('enter your password')\n",
    "pwd2=input('confirm your password')\n",
    "\n",
    "if len(username)>4 and len(username)<=15:\n",
    "    if'@'in email and email.islower() and len(email)>10:\n",
    "      if len(pwd)>=6 and pwd!=username:\n",
    "       if pwd==pwd2:\n",
    "         print(\"hurray😂😂😂\")\n",
    "       else:\n",
    "         print(\"password do not match\")\n",
    "      else:\n",
    "         print(\"password is invalid\")\n",
    "    else:\n",
    "       print(\"email is invalid\")\n",
    "else: \n",
    "   print(\"username is invalid\")"
   ]
  },
  {
   "cell_type": "code",
   "execution_count": null,
   "metadata": {},
   "outputs": [],
   "source": [
    "name=input(\"enter your name\")\n",
    "max_marks=int(input('enter the marks'))\n",
    "if max_marks>90:\n",
    "    print('you are outstanding')\n",
    "elif max_marks>75:\n",
    "    print('you are intelligent')\n",
    "elif max_marks>60:\n",
    "    print('you are a good performer')\n",
    "else:\n",
    "    print('poor')"
   ]
  },
  {
   "cell_type": "code",
   "execution_count": null,
   "metadata": {},
   "outputs": [],
   "source": [
    "x=int(input('enter the number'))\n",
    "if x%2==1:\n",
    " if x%1==0:\n",
    "  print(\"prime\")\n",
    "else:\n",
    " print('not')"
   ]
  },
  {
   "cell_type": "code",
   "execution_count": 6,
   "metadata": {},
   "outputs": [
    {
     "data": {
      "text/plain": [
       "4"
      ]
     },
     "execution_count": 6,
     "metadata": {},
     "output_type": "execute_result"
    }
   ],
   "source": [
    "list=('apple','banana','mango','grapes')\n",
    "len(list)"
   ]
  },
  {
   "cell_type": "code",
   "execution_count": 29,
   "metadata": {},
   "outputs": [
    {
     "name": "stdout",
     "output_type": "stream",
     "text": [
      " he is child\n"
     ]
    }
   ],
   "source": [
    "x=int(input(\"the age of man\"))\n",
    "if x>30 :\n",
    "     print('man is midage') \n",
    "elif x==30 :\n",
    "    print('man is adult')\n",
    "elif x<30 and x>=14:\n",
    "   print('man is teen')\n",
    "else:\n",
    "    print(' he is child')\n"
   ]
  },
  {
   "cell_type": "code",
   "execution_count": 16,
   "metadata": {},
   "outputs": [
    {
     "name": "stdout",
     "output_type": "stream",
     "text": [
      "data is invalid\n"
     ]
    }
   ],
   "source": [
    "x=(input('enter the name'))\n",
    "y=int(input(\"enter the age\"))\n",
    "if len(x)>9 and y>30:\n",
    "     print(f'the name is {x=}')\n",
    "     print(f'and his age is {y=}')\n",
    "else:\n",
    "    print('data is invalid')\n"
   ]
  },
  {
   "cell_type": "code",
   "execution_count": 19,
   "metadata": {},
   "outputs": [
    {
     "name": "stdout",
     "output_type": "stream",
     "text": [
      "the value of power is power=54.6637121724624\n"
     ]
    }
   ],
   "source": [
    "from math import pi\n",
    "n=int(input('enter the value of n'))\n",
    "t=int(input('enter the value of t'))\n",
    "power=2*pi*n*t/60\n",
    "print(f'the value of power is {power=}')\n"
   ]
  },
  {
   "cell_type": "code",
   "execution_count": null,
   "metadata": {},
   "outputs": [],
   "source": []
  }
 ],
 "metadata": {
  "kernelspec": {
   "display_name": "base",
   "language": "python",
   "name": "python3"
  },
  "language_info": {
   "codemirror_mode": {
    "name": "ipython",
    "version": 3
   },
   "file_extension": ".py",
   "mimetype": "text/x-python",
   "name": "python",
   "nbconvert_exporter": "python",
   "pygments_lexer": "ipython3",
   "version": "3.10.9"
  },
  "orig_nbformat": 4,
  "vscode": {
   "interpreter": {
    "hash": "9be1456dddb5e67482e7a79bc03352c44ecdf22f049d6e9e3ba7cb6f7f9ec082"
   }
  }
 },
 "nbformat": 4,
 "nbformat_minor": 2
}
