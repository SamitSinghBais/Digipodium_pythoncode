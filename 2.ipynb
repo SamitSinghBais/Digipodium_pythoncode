{
 "cells": [
  {
   "cell_type": "code",
   "execution_count": 11,
   "metadata": {},
   "outputs": [
    {
     "name": "stdout",
     "output_type": "stream",
     "text": [
      "the area of the circle with radius 5.0 is: 78.53981633974483 cm \n"
     ]
    }
   ],
   "source": [
    "from math import pi\n",
    "r = float(input (\"input the radius of the circle : \"))\n",
    "print (\"the area of the circle with radius \" + str(r) + \" is: \" + str (pi * r**2) + \" cm \")"
   ]
  },
  {
   "cell_type": "code",
   "execution_count": null,
   "metadata": {},
   "outputs": [],
   "source": []
  }
 ],
 "metadata": {
  "kernelspec": {
   "display_name": "base",
   "language": "python",
   "name": "python3"
  },
  "language_info": {
   "codemirror_mode": {
    "name": "ipython",
    "version": 3
   },
   "file_extension": ".py",
   "mimetype": "text/x-python",
   "name": "python",
   "nbconvert_exporter": "python",
   "pygments_lexer": "ipython3",
   "version": "3.10.8"
  },
  "orig_nbformat": 4,
  "vscode": {
   "interpreter": {
    "hash": "9be1456dddb5e67482e7a79bc03352c44ecdf22f049d6e9e3ba7cb6f7f9ec082"
   }
  }
 },
 "nbformat": 4,
 "nbformat_minor": 2
}
