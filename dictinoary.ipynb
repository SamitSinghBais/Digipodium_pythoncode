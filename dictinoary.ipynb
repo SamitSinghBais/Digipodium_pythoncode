{
 "cells": [
  {
   "attachments": {},
   "cell_type": "markdown",
   "metadata": {},
   "source": [
    "# dictionary\n",
    "\n",
    "-ordered data structure\n",
    "-unindex, mutable\n",
    "-key : value pair\n",
    "-key is immutable, unique\n",
    "-value is mutable and can be duplicated and heterogenous\n",
    "-dictionary can be nested\n",
    "-dictionary can be created using dict() function\n",
    "-dictionary can be created using {}curly braces"
   ]
  },
  {
   "cell_type": "code",
   "execution_count": 58,
   "metadata": {},
   "outputs": [
    {
     "name": "stdout",
     "output_type": "stream",
     "text": [
      "[' brandon sanderson', 'the lost metal', '7', 'fantasy', '2022', '19.00']\n"
     ]
    }
   ],
   "source": [
    "details = [' brandon sanderson','the lost metal','7','fantasy','2022','19.00']\n",
    "print(details)"
   ]
  },
  {
   "cell_type": "code",
   "execution_count": 59,
   "metadata": {},
   "outputs": [],
   "source": [
    "details_dict = {\n",
    "    'author': 'brandon sanderson',\n",
    "    'title': 'the lost metal',\n",
    "    'part': 7,\n",
    "    'genre': 'fantasy',\n",
    "    'relese date':'2022',\n",
    "    'price': '$19.00'\n",
    "}"
   ]
  },
  {
   "cell_type": "code",
   "execution_count": 60,
   "metadata": {},
   "outputs": [
    {
     "name": "stdout",
     "output_type": "stream",
     "text": [
      "{'author': 'brandon sanderson', 'title': 'the lost metal', 'part': 7, 'genre': 'fantasy', 'relese date': '2022', 'price': '$19.00'}\n",
      "<class 'dict'>\n"
     ]
    }
   ],
   "source": [
    "print(details_dict)\n",
    "print(type(details_dict))"
   ]
  },
  {
   "cell_type": "code",
   "execution_count": 61,
   "metadata": {},
   "outputs": [],
   "source": [
    "details_dict['author'] = 'samit'"
   ]
  },
  {
   "cell_type": "code",
   "execution_count": 62,
   "metadata": {},
   "outputs": [
    {
     "name": "stdout",
     "output_type": "stream",
     "text": [
      "{'author': 'samit', 'title': 'the lost metal', 'part': 7, 'genre': 'fantasy', 'relese date': '2022', 'price': '$19.00'}\n"
     ]
    }
   ],
   "source": [
    "print(details_dict)"
   ]
  },
  {
   "cell_type": "code",
   "execution_count": 63,
   "metadata": {},
   "outputs": [
    {
     "data": {
      "text/plain": [
       "{'author': 'samit',\n",
       " 'title': 'the lost metal',\n",
       " 'part': 7,\n",
       " 'genre': 'fantasy',\n",
       " 'relese date': '2022',\n",
       " 'price': '$19.00'}"
      ]
     },
     "execution_count": 63,
     "metadata": {},
     "output_type": "execute_result"
    }
   ],
   "source": [
    "details_dict"
   ]
  },
  {
   "cell_type": "code",
   "execution_count": 64,
   "metadata": {},
   "outputs": [],
   "source": [
    "student_dict = {\n",
    "    'name':  'samit singh',\n",
    "    'class':  'b.tech',\n",
    "    'language':  'python',\n",
    "    'hobbies': 'travelling',\n",
    "    'fathersname':  'Mr.RK Singh',\n",
    "    'DOB': '25oct1989',\n",
    "    'age': 26,\n",
    "\n",
    "}"
   ]
  },
  {
   "cell_type": "code",
   "execution_count": 65,
   "metadata": {},
   "outputs": [
    {
     "name": "stdout",
     "output_type": "stream",
     "text": [
      "{'name': 'samit singh', 'class': 'b.tech', 'language': 'python', 'hobbies': 'travelling', 'fathersname': 'Mr.RK Singh', 'DOB': '25oct1989', 'age': 26}\n"
     ]
    }
   ],
   "source": [
    "print(student_dict)"
   ]
  },
  {
   "cell_type": "code",
   "execution_count": 66,
   "metadata": {},
   "outputs": [
    {
     "data": {
      "text/plain": [
       "{'name': 'samit singh',\n",
       " 'class': 'b.tech',\n",
       " 'language': 'python',\n",
       " 'hobbies': 'travelling',\n",
       " 'fathersname': 'Mr.RK Singh',\n",
       " 'DOB': '25oct1989',\n",
       " 'age': 26}"
      ]
     },
     "execution_count": 66,
     "metadata": {},
     "output_type": "execute_result"
    }
   ],
   "source": [
    "student_dict"
   ]
  },
  {
   "cell_type": "code",
   "execution_count": 67,
   "metadata": {},
   "outputs": [],
   "source": [
    "student_dict['hobby'] = 'reading'"
   ]
  },
  {
   "cell_type": "code",
   "execution_count": 68,
   "metadata": {},
   "outputs": [
    {
     "data": {
      "text/plain": [
       "{'name': 'samit singh',\n",
       " 'class': 'b.tech',\n",
       " 'language': 'python',\n",
       " 'hobbies': 'travelling',\n",
       " 'fathersname': 'Mr.RK Singh',\n",
       " 'DOB': '25oct1989',\n",
       " 'age': 26,\n",
       " 'hobby': 'reading'}"
      ]
     },
     "execution_count": 68,
     "metadata": {},
     "output_type": "execute_result"
    }
   ],
   "source": [
    "student_dict"
   ]
  },
  {
   "cell_type": "code",
   "execution_count": 69,
   "metadata": {},
   "outputs": [],
   "source": [
    "details_dict['pages']= 528"
   ]
  },
  {
   "cell_type": "code",
   "execution_count": 70,
   "metadata": {},
   "outputs": [
    {
     "data": {
      "text/plain": [
       "{'author': 'samit',\n",
       " 'title': 'the lost metal',\n",
       " 'part': 7,\n",
       " 'genre': 'fantasy',\n",
       " 'relese date': '2022',\n",
       " 'price': '$19.00',\n",
       " 'pages': 528}"
      ]
     },
     "execution_count": 70,
     "metadata": {},
     "output_type": "execute_result"
    }
   ],
   "source": [
    "details_dict"
   ]
  },
  {
   "cell_type": "code",
   "execution_count": 71,
   "metadata": {},
   "outputs": [
    {
     "name": "stdout",
     "output_type": "stream",
     "text": [
      "author\n",
      "title\n",
      "part\n",
      "genre\n",
      "relese date\n",
      "price\n",
      "pages\n"
     ]
    }
   ],
   "source": [
    "for k in details_dict:\n",
    "    print(k)"
   ]
  },
  {
   "cell_type": "code",
   "execution_count": 72,
   "metadata": {},
   "outputs": [
    {
     "name": "stdout",
     "output_type": "stream",
     "text": [
      "samit\n",
      "the lost metal\n",
      "7\n",
      "fantasy\n",
      "2022\n",
      "$19.00\n",
      "528\n"
     ]
    }
   ],
   "source": [
    "for k in details_dict:\n",
    "    print(details_dict[k])"
   ]
  },
  {
   "cell_type": "code",
   "execution_count": 73,
   "metadata": {},
   "outputs": [
    {
     "name": "stdout",
     "output_type": "stream",
     "text": [
      "author          samit\n",
      "title           the lost metal\n",
      "part            7\n",
      "genre           fantasy\n",
      "relese date     2022\n",
      "price           $19.00\n",
      "pages           528\n"
     ]
    }
   ],
   "source": [
    "for k,v in details_dict.items():\n",
    "    print(f'{k:15} {v}')"
   ]
  },
  {
   "cell_type": "code",
   "execution_count": 74,
   "metadata": {},
   "outputs": [
    {
     "data": {
      "text/plain": [
       "['samit', 'the lost metal', 7, 'fantasy', '2022', '$19.00', 528]"
      ]
     },
     "execution_count": 74,
     "metadata": {},
     "output_type": "execute_result"
    }
   ],
   "source": [
    "list(details_dict.values())"
   ]
  },
  {
   "cell_type": "code",
   "execution_count": 75,
   "metadata": {},
   "outputs": [
    {
     "data": {
      "text/plain": [
       "['author', 'title', 'part', 'genre', 'relese date', 'price', 'pages']"
      ]
     },
     "execution_count": 75,
     "metadata": {},
     "output_type": "execute_result"
    }
   ],
   "source": [
    "list(details_dict.keys())"
   ]
  },
  {
   "cell_type": "code",
   "execution_count": 76,
   "metadata": {},
   "outputs": [
    {
     "data": {
      "text/plain": [
       "528"
      ]
     },
     "execution_count": 76,
     "metadata": {},
     "output_type": "execute_result"
    }
   ],
   "source": [
    "details_dict.get('pages',0)"
   ]
  },
  {
   "cell_type": "code",
   "execution_count": null,
   "metadata": {},
   "outputs": [],
   "source": []
  }
 ],
 "metadata": {
  "kernelspec": {
   "display_name": "base",
   "language": "python",
   "name": "python3"
  },
  "language_info": {
   "codemirror_mode": {
    "name": "ipython",
    "version": 3
   },
   "file_extension": ".py",
   "mimetype": "text/x-python",
   "name": "python",
   "nbconvert_exporter": "python",
   "pygments_lexer": "ipython3",
   "version": "3.10.9"
  },
  "orig_nbformat": 4
 },
 "nbformat": 4,
 "nbformat_minor": 2
}
