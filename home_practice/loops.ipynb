{
 "cells": [
  {
   "cell_type": "code",
   "execution_count": null,
   "metadata": {},
   "outputs": [],
   "source": [
    "name=\"vijay deenanath chauhan\"\n",
    "print(len(name))"
   ]
  },
  {
   "cell_type": "code",
   "execution_count": 1,
   "metadata": {},
   "outputs": [
    {
     "name": "stdout",
     "output_type": "stream",
     "text": [
      "i\n",
      "a\n",
      "e\n",
      "e\n",
      "a\n",
      "a\n",
      "a\n",
      "u\n",
      "a\n"
     ]
    }
   ],
   "source": [
    "name=\"vijay deenanath chauhan\"\n",
    "for k in name:\n",
    "   if k  in 'aeiou':\n",
    "    print(k)"
   ]
  },
  {
   "cell_type": "code",
   "execution_count": 2,
   "metadata": {},
   "outputs": [
    {
     "name": "stdout",
     "output_type": "stream",
     "text": [
      "we have  apple\n",
      "we have  banana\n",
      "we have  mango\n",
      "thats all\n"
     ]
    }
   ],
   "source": [
    "fruits=['apple','banana','mango']\n",
    "for fruit in fruits:\n",
    "    print('we have ',fruit)\n",
    "else:\n",
    "    print('thats all')"
   ]
  },
  {
   "cell_type": "code",
   "execution_count": null,
   "metadata": {},
   "outputs": [],
   "source": [
    "for num in range(10,5,-1):\n",
    "    print(num)"
   ]
  },
  {
   "cell_type": "code",
   "execution_count": null,
   "metadata": {},
   "outputs": [],
   "source": [
    "\n",
    "for num in range(0,15,+1):\n",
    "  if num%2==0:\n",
    "    print(num)\n",
    "   \n",
    "    \n",
    "\n"
   ]
  },
  {
   "cell_type": "code",
   "execution_count": 4,
   "metadata": {},
   "outputs": [
    {
     "name": "stdout",
     "output_type": "stream",
     "text": [
      "50\n",
      "52\n",
      "54\n",
      "56\n",
      "58\n",
      "60\n",
      "62\n",
      "64\n",
      "66\n",
      "68\n",
      "70\n",
      "72\n",
      "74\n",
      "76\n",
      "78\n",
      "80\n",
      "82\n",
      "84\n",
      "86\n",
      "88\n",
      "90\n",
      "92\n",
      "94\n",
      "96\n",
      "98\n",
      "100\n"
     ]
    }
   ],
   "source": [
    "start=int(input('enter the start limit: '))\n",
    "end=int(input('enter the end number: '))\n",
    "for num in range(start,end+1):\n",
    "    if num%2==0:\n",
    "        print(num)"
   ]
  },
  {
   "cell_type": "code",
   "execution_count": null,
   "metadata": {},
   "outputs": [],
   "source": [
    "for num in range (50,70,+1):\n",
    "  print(num)"
   ]
  },
  {
   "attachments": {},
   "cell_type": "markdown",
   "metadata": {},
   "source": [
    "more for loop\n",
    "- enumerate()\n",
    "- zip()"
   ]
  },
  {
   "cell_type": "code",
   "execution_count": 10,
   "metadata": {},
   "outputs": [
    {
     "name": "stdout",
     "output_type": "stream",
     "text": [
      "0 rose\n",
      "1 jasmine\n",
      "2 lotue\n",
      "3 lilly\n"
     ]
    }
   ],
   "source": [
    "flowers=['rose','jasmine','lotue','lilly']\n",
    "for i, flower in enumerate(flowers):\n",
    "    print(i,flower)\n",
    "                    "
   ]
  },
  {
   "cell_type": "code",
   "execution_count": 6,
   "metadata": {},
   "outputs": [
    {
     "name": "stdout",
     "output_type": "stream",
     "text": [
      "(1 + 3)**2=16\n",
      "(2 + 5)**2=49\n",
      "(3 + 6)**2=81\n",
      "(4 + 7)**2=121\n",
      "(5 + 8)**2=169\n",
      "(6 + 2)**2=64\n"
     ]
    }
   ],
   "source": [
    "x=[1,2,3,4,5,6]\n",
    "y=[3,5,6,7,8,2]\n",
    "for i,j in zip(x,y):\n",
    "    print(f'({i} + {j})**2={(i+j)**2}')"
   ]
  },
  {
   "attachments": {},
   "cell_type": "markdown",
   "metadata": {},
   "source": [
    "break and continue"
   ]
  },
  {
   "cell_type": "code",
   "execution_count": 9,
   "metadata": {},
   "outputs": [
    {
     "name": "stdout",
     "output_type": "stream",
     "text": [
      "2 3 4 5 6 7 8 9 3 6 9 4 5 1 1 1 1 "
     ]
    }
   ],
   "source": [
    "a = [2,3,4,5,6,7,8,9,0,0,3,6,0,9,0,4,5,1,1,1,1]\n",
    "for i in a:\n",
    "    if i==0: continue\n",
    "    print(i, end=\" \")"
   ]
  },
  {
   "cell_type": "code",
   "execution_count": 13,
   "metadata": {},
   "outputs": [
    {
     "name": "stdout",
     "output_type": "stream",
     "text": [
      "sam\n",
      "sara\n",
      "alexa\n"
     ]
    }
   ],
   "source": [
    "names = ['sam','sara','alexa','', 'john','jhonny','','zoya']\n",
    "for name in names:\n",
    "    if len(name)==0: break\n",
    "    print(name)"
   ]
  },
  {
   "cell_type": "code",
   "execution_count": 19,
   "metadata": {},
   "outputs": [
    {
     "name": "stdout",
     "output_type": "stream",
     "text": [
      "sam\n",
      "sara\n",
      "alexa\n",
      "error: empty name found\n"
     ]
    }
   ],
   "source": [
    "for name in names:\n",
    "    if len(name)==0:\n",
    "        print('error: empty name found')\n",
    "        break\n",
    "    print(name)"
   ]
  },
  {
   "cell_type": "code",
   "execution_count": null,
   "metadata": {},
   "outputs": [],
   "source": []
  }
 ],
 "metadata": {
  "kernelspec": {
   "display_name": "base",
   "language": "python",
   "name": "python3"
  },
  "language_info": {
   "codemirror_mode": {
    "name": "ipython",
    "version": 3
   },
   "file_extension": ".py",
   "mimetype": "text/x-python",
   "name": "python",
   "nbconvert_exporter": "python",
   "pygments_lexer": "ipython3",
   "version": "3.10.9"
  },
  "orig_nbformat": 4,
  "vscode": {
   "interpreter": {
    "hash": "9be1456dddb5e67482e7a79bc03352c44ecdf22f049d6e9e3ba7cb6f7f9ec082"
   }
  }
 },
 "nbformat": 4,
 "nbformat_minor": 2
}
