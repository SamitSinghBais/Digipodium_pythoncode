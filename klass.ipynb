{
 "cells": [
  {
   "cell_type": "code",
   "execution_count": 28,
   "metadata": {},
   "outputs": [],
   "source": [
    "class employee:\n",
    "    def __init__(self,name,sirname,pay,ethencity):\n",
    "        self.name = name\n",
    "        self.sirname = sirname \n",
    "        self.pay = pay\n",
    "        self.ethencity = ethencity\n",
    "\n",
    "    def full_name(self):\n",
    "        return '{} {} {} {}'.format(self.name,self.sirname,self.pay,self.ethencity)\n",
    "    \n",
    "    def apply_raise(self):\n",
    "        self.pay = int(self.pay * 1.1)\n",
    "\n",
    "emp_1 = employee('john','fleming',5000,'europian')\n",
    "emp_2 = employee('pablo','escobar',3000,'latin')\n",
    "\n",
    "#print(emp_1.full_name())\n",
    "#print(emp_2.full_name()\n",
    "emp_1.apply_raise()\n"
   ]
  },
  {
   "cell_type": "code",
   "execution_count": null,
   "metadata": {},
   "outputs": [],
   "source": []
  }
 ],
 "metadata": {
  "kernelspec": {
   "display_name": "base",
   "language": "python",
   "name": "python3"
  },
  "language_info": {
   "codemirror_mode": {
    "name": "ipython",
    "version": 3
   },
   "file_extension": ".py",
   "mimetype": "text/x-python",
   "name": "python",
   "nbconvert_exporter": "python",
   "pygments_lexer": "ipython3",
   "version": "3.10.9"
  },
  "orig_nbformat": 4
 },
 "nbformat": 4,
 "nbformat_minor": 2
}
