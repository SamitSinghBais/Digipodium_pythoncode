{
 "cells": [
  {
   "cell_type": "code",
   "execution_count": 26,
   "metadata": {},
   "outputs": [
    {
     "name": "stdout",
     "output_type": "stream",
     "text": [
      "john fleming europian\n",
      "5000\n",
      "pay after incremet: 5500\n",
      "increment rate : 1.1\n",
      "pablo escobar latin\n",
      "3000\n",
      "pay after incremet: 3300\n",
      "increment rate : 1.1\n"
     ]
    }
   ],
   "source": [
    "class employee:\n",
    "\n",
    "    raise_amount = 1.1\n",
    "\n",
    "    def __init__(self,name,sirname,pay,ethencity):\n",
    "        self.name = name\n",
    "        self.sirname = sirname \n",
    "        self.pay = pay\n",
    "        self.ethencity = ethencity\n",
    "\n",
    "    def full_name(self):\n",
    "        return '{} {} {}'.format(self.name,self.sirname,self.ethencity)\n",
    "    \n",
    "    def apply_raise(self):\n",
    "        self.pay = int(self.pay * self.raise_amount)\n",
    "\n",
    "emp_1 = employee('john','fleming',5000,'europian')\n",
    "emp_2 = employee('pablo','escobar',3000,'latin')\n",
    "\n",
    "#emp_1.raise_amount = 1.05\n",
    "\n",
    "print(emp_1.full_name())\n",
    "print(emp_1.pay)\n",
    "emp_1.apply_raise()\n",
    "print('pay after incremet:',emp_1.pay)\n",
    "print('increment rate :',emp_1.raise_amount)\n",
    "\n",
    "\n",
    "print(emp_2.full_name())\n",
    "print(emp_2.pay)\n",
    "emp_2.apply_raise()\n",
    "print('pay after incremet:',emp_2.pay)\n",
    "print('increment rate :',emp_2.raise_amount)\n",
    "\n"
   ]
  },
  {
   "cell_type": "code",
   "execution_count": null,
   "metadata": {},
   "outputs": [],
   "source": []
  }
 ],
 "metadata": {
  "kernelspec": {
   "display_name": "base",
   "language": "python",
   "name": "python3"
  },
  "language_info": {
   "codemirror_mode": {
    "name": "ipython",
    "version": 3
   },
   "file_extension": ".py",
   "mimetype": "text/x-python",
   "name": "python",
   "nbconvert_exporter": "python",
   "pygments_lexer": "ipython3",
   "version": "3.10.9"
  },
  "orig_nbformat": 4
 },
 "nbformat": 4,
 "nbformat_minor": 2
}
