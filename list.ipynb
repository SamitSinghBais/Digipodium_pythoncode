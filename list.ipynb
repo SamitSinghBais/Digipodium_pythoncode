{
 "cells": [
  {
   "attachments": {},
   "cell_type": "markdown",
   "metadata": {},
   "source": [
    "# data structure\n",
    "\n",
    "###### list[]\n",
    "###### dictinery{}\n",
    "###### tupple()\n",
    "###### set{}\n",
    "\n"
   ]
  },
  {
   "attachments": {},
   "cell_type": "markdown",
   "metadata": {},
   "source": [
    "# list\n",
    "\n",
    "###### ordered\n",
    "###### mutable\n",
    "###### index\n",
    "###### heterogenous \n",
    "###### [] symbols list\n",
    "###### they are iterable\n",
    "\n"
   ]
  },
  {
   "cell_type": "code",
   "execution_count": null,
   "metadata": {},
   "outputs": [],
   "source": [
    "# what you need to learn\n",
    " # creating\n",
    " #indexing\n",
    " # methods(11)"
   ]
  },
  {
   "cell_type": "code",
   "execution_count": 13,
   "metadata": {},
   "outputs": [],
   "source": [
    "a = [] # empty list\n",
    "\n",
    "b = [1,2,3,4,5,67,2]# list of integers\n",
    "\n",
    "c = ['apple','banana','orange']# list of strings\n",
    "\n",
    "d = [[1,2,3],[4,5,6],[7,8,9]]# list of lists(nested list)\n",
    "\n",
    "e = ['apple',20,False,'mango',50.5,True] # mixed list\n",
    "\n",
    "\n"
   ]
  },
  {
   "cell_type": "code",
   "execution_count": 3,
   "metadata": {},
   "outputs": [
    {
     "name": "stdout",
     "output_type": "stream",
     "text": [
      "[' ', 't', 'h', 'e', ' ', 'l', 'o', 's', 't', ' ', 'm', 'e', 't', 'a', 'l']\n"
     ]
    }
   ],
   "source": [
    "word = ' the lost metal'\n",
    "char = list(word)\n",
    "print(char)"
   ]
  },
  {
   "cell_type": "code",
   "execution_count": 6,
   "metadata": {},
   "outputs": [
    {
     "name": "stdout",
     "output_type": "stream",
     "text": [
      "[1, 2, 3, 1, 2, 3, 1, 2, 3, 1, 2, 3, 1, 2, 3]\n"
     ]
    }
   ],
   "source": [
    "f = [1,2,3] * 5 #repeat list 5 times\n",
    "print(f)"
   ]
  },
  {
   "cell_type": "code",
   "execution_count": 14,
   "metadata": {},
   "outputs": [],
   "source": [
    "name = input(\"enter your name:\")\n",
    "a.append(name)"
   ]
  },
  {
   "cell_type": "code",
   "execution_count": 15,
   "metadata": {},
   "outputs": [
    {
     "name": "stdout",
     "output_type": "stream",
     "text": [
      "sam\n"
     ]
    }
   ],
   "source": [
    "print(name)"
   ]
  },
  {
   "cell_type": "code",
   "execution_count": 2,
   "metadata": {},
   "outputs": [
    {
     "data": {
      "text/plain": [
       "15"
      ]
     },
     "execution_count": 2,
     "metadata": {},
     "output_type": "execute_result"
    }
   ],
   "source": [
    "movies = ['stardust','the fault in our stars','mi1','mi2','mi3','mi4','mi5','mi6','kgf1','kgf2','bahubali1','bahubali2','harrypotter','superman','rrr']\n",
    "len(movies)"
   ]
  },
  {
   "cell_type": "code",
   "execution_count": 17,
   "metadata": {},
   "outputs": [
    {
     "data": {
      "text/plain": [
       "'kgf2'"
      ]
     },
     "execution_count": 17,
     "metadata": {},
     "output_type": "execute_result"
    }
   ],
   "source": [
    "movies[9]"
   ]
  },
  {
   "cell_type": "code",
   "execution_count": 18,
   "metadata": {},
   "outputs": [
    {
     "data": {
      "text/plain": [
       "'stardust'"
      ]
     },
     "execution_count": 18,
     "metadata": {},
     "output_type": "execute_result"
    }
   ],
   "source": [
    "movies[0]"
   ]
  },
  {
   "cell_type": "code",
   "execution_count": 20,
   "metadata": {},
   "outputs": [],
   "source": [
    "movies[4] = 'joker'"
   ]
  },
  {
   "cell_type": "code",
   "execution_count": 21,
   "metadata": {},
   "outputs": [
    {
     "name": "stdout",
     "output_type": "stream",
     "text": [
      "['stardust', 'the fault in our stars', 'mi1', 'mi2', 'joker', 'mi4', 'mi5', 'mi6', 'kgf1', 'kgf2', 'bahubali1', 'bahubali2', 'harrypotter', 'superman', 'rrr']\n"
     ]
    }
   ],
   "source": [
    "print(movies)"
   ]
  },
  {
   "cell_type": "code",
   "execution_count": 23,
   "metadata": {},
   "outputs": [
    {
     "data": {
      "text/plain": [
       "['stardust',\n",
       " 'the fault in our stars',\n",
       " 'mi1',\n",
       " 'mi2',\n",
       " 'joker',\n",
       " 'mi4',\n",
       " 'mi5',\n",
       " 'mi6',\n",
       " 'kgf1',\n",
       " 'kgf2',\n",
       " 'bahubali1',\n",
       " 'bahubali2']"
      ]
     },
     "execution_count": 23,
     "metadata": {},
     "output_type": "execute_result"
    }
   ],
   "source": [
    "movies[:-3]"
   ]
  },
  {
   "cell_type": "code",
   "execution_count": 27,
   "metadata": {},
   "outputs": [],
   "source": [
    "# first five movies\n",
    "# last five movies\n",
    "# all movies except first 3 and last 3\n",
    "# all movies in reverse order"
   ]
  },
  {
   "cell_type": "code",
   "execution_count": 28,
   "metadata": {},
   "outputs": [
    {
     "data": {
      "text/plain": [
       "['stardust', 'the fault in our stars', 'mi1', 'mi2', 'joker']"
      ]
     },
     "execution_count": 28,
     "metadata": {},
     "output_type": "execute_result"
    }
   ],
   "source": [
    "movies[0:5]"
   ]
  },
  {
   "cell_type": "code",
   "execution_count": 30,
   "metadata": {},
   "outputs": [
    {
     "data": {
      "text/plain": [
       "['stardust', 'the fault in our stars', 'mi1', 'mi2', 'joker']"
      ]
     },
     "execution_count": 30,
     "metadata": {},
     "output_type": "execute_result"
    }
   ],
   "source": [
    "movies[-15:-10]"
   ]
  },
  {
   "cell_type": "code",
   "execution_count": 31,
   "metadata": {},
   "outputs": [
    {
     "data": {
      "text/plain": [
       "['mi1',\n",
       " 'mi2',\n",
       " 'joker',\n",
       " 'mi4',\n",
       " 'mi5',\n",
       " 'mi6',\n",
       " 'kgf1',\n",
       " 'kgf2',\n",
       " 'bahubali1',\n",
       " 'bahubali2']"
      ]
     },
     "execution_count": 31,
     "metadata": {},
     "output_type": "execute_result"
    }
   ],
   "source": [
    "movies[2:-3]"
   ]
  },
  {
   "cell_type": "code",
   "execution_count": 1,
   "metadata": {},
   "outputs": [
    {
     "ename": "NameError",
     "evalue": "name 'movies' is not defined",
     "output_type": "error",
     "traceback": [
      "\u001b[1;31m---------------------------------------------------------------------------\u001b[0m",
      "\u001b[1;31mNameError\u001b[0m                                 Traceback (most recent call last)",
      "Cell \u001b[1;32mIn[1], line 1\u001b[0m\n\u001b[1;32m----> 1\u001b[0m movies[::\u001b[39m-\u001b[39m\u001b[39m1\u001b[39m]\n",
      "\u001b[1;31mNameError\u001b[0m: name 'movies' is not defined"
     ]
    }
   ],
   "source": [
    "movies[::-1]"
   ]
  },
  {
   "cell_type": "code",
   "execution_count": 3,
   "metadata": {},
   "outputs": [
    {
     "name": "stdout",
     "output_type": "stream",
     "text": [
      "['stardust', 'the fault in our stars', 'mi1', 'mi2', 'mi3', 'mi4', 'mi5', 'mi6', 'kgf1', 'kgf2', 'bahubali1', 'bahubali2', 'harrypotter', 'superman', 'rrr']\n"
     ]
    }
   ],
   "source": [
    "print(movies)"
   ]
  },
  {
   "cell_type": "code",
   "execution_count": 4,
   "metadata": {},
   "outputs": [],
   "source": [
    "movies.append('the matrix')"
   ]
  },
  {
   "cell_type": "code",
   "execution_count": 5,
   "metadata": {},
   "outputs": [
    {
     "name": "stdout",
     "output_type": "stream",
     "text": [
      "['stardust', 'the fault in our stars', 'mi1', 'mi2', 'mi3', 'mi4', 'mi5', 'mi6', 'kgf1', 'kgf2', 'bahubali1', 'bahubali2', 'harrypotter', 'superman', 'rrr', 'the matrix']\n"
     ]
    }
   ],
   "source": [
    "print(movies)"
   ]
  },
  {
   "cell_type": "code",
   "execution_count": 16,
   "metadata": {},
   "outputs": [],
   "source": [
    "for i in range (3):\n",
    "    name = input(\"enter movie name\")\n",
    "    movies.append(name)"
   ]
  },
  {
   "cell_type": "code",
   "execution_count": 7,
   "metadata": {},
   "outputs": [
    {
     "name": "stdout",
     "output_type": "stream",
     "text": [
      "['stardust', 'the fault in our stars', 'mi1', 'mi2', 'mi3', 'mi4', 'mi5', 'mi6', 'kgf1', 'kgf2', 'bahubali1', 'bahubali2', 'harrypotter', 'superman', 'rrr', 'the matrix', 'enter movie name', 'enter movie name', 'enter movie name']\n"
     ]
    }
   ],
   "source": [
    "print(movies)"
   ]
  },
  {
   "cell_type": "code",
   "execution_count": 9,
   "metadata": {},
   "outputs": [
    {
     "data": {
      "text/plain": [
       "8"
      ]
     },
     "execution_count": 9,
     "metadata": {},
     "output_type": "execute_result"
    }
   ],
   "source": [
    "movies.index('kgf1')"
   ]
  },
  {
   "cell_type": "code",
   "execution_count": 11,
   "metadata": {},
   "outputs": [
    {
     "name": "stdout",
     "output_type": "stream",
     "text": [
      "['stardust', 'the fault in our stars', 'mi1', 'mi2', 'mi3', 'mi4', 'mi5', 'mi6', 'krish3', 'kgf1', 'kgf2', 'bahubali1', 'bahubali2', 'harrypotter', 'superman', 'rrr', 'the matrix', 'enter movie name', 'enter movie name', 'enter movie name', 'enter movie name', 'enter movie name', 'enter movie name']\n"
     ]
    }
   ],
   "source": [
    "movies.insert(8,'krish3')\n",
    "print(movies)"
   ]
  },
  {
   "cell_type": "code",
   "execution_count": 12,
   "metadata": {},
   "outputs": [
    {
     "name": "stdout",
     "output_type": "stream",
     "text": [
      "['stardust', 'the fault in our stars', 'mi1', 'mi2', 'mi3', 'mi4', 'mi5', 'mi6', 'krish3', 'kgf1', 'kgf2', 'bahubali1', 'bahubali2', 'harrypotter', 'superman', 'rrr', 'the matrix', 'enter movie name', 'krish3: reloaded', 'enter movie name', 'enter movie name', 'enter movie name', 'enter movie name']\n"
     ]
    }
   ],
   "source": [
    "movies[-5] ='krish3: reloaded'\n",
    "print(movies)"
   ]
  },
  {
   "cell_type": "code",
   "execution_count": 14,
   "metadata": {},
   "outputs": [
    {
     "name": "stdout",
     "output_type": "stream",
     "text": [
      "['stardust', 'the fault in our stars', 'mi1', 'mi2', 'mi3', 'mi4', 'mi5', 'mi6', 'kgf1', 'kgf2', 'bahubali1', 'bahubali2', 'harrypotter', 'superman', 'rrr', 'the matrix', 'enter movie name', 'krish3: reloaded', 'enter movie name', 'enter movie name', 'enter movie name', 'enter movie name']\n"
     ]
    }
   ],
   "source": [
    "movies.remove('krish3')\n",
    "print(movies)"
   ]
  },
  {
   "cell_type": "code",
   "execution_count": 17,
   "metadata": {},
   "outputs": [
    {
     "name": "stdout",
     "output_type": "stream",
     "text": [
      "['stardust', 'the fault in our stars', 'mi1', 'mi2', 'mi3', 'mi4', 'mi5', 'mi6', 'kgf1', 'kgf2', 'bahubali1', 'bahubali2', 'harrypotter', 'superman', 'rrr', 'the matrix', 'enter movie name', 'krish3: reloaded', 'enter movie name', 'enter movie name', 'enter movie name', 'enter movie name', 'enter movie name', 'enter movie name', 'enter movie name', '', 'maajhi', 'sholay']\n"
     ]
    }
   ],
   "source": [
    "print(movies)"
   ]
  },
  {
   "cell_type": "code",
   "execution_count": 18,
   "metadata": {},
   "outputs": [
    {
     "data": {
      "text/plain": [
       "['stardust',\n",
       " 'the fault in our stars',\n",
       " 'mi1',\n",
       " 'mi2',\n",
       " 'mi3',\n",
       " 'mi4',\n",
       " 'mi5',\n",
       " 'mi6',\n",
       " 'kgf1',\n",
       " 'kgf2',\n",
       " 'bahubali1',\n",
       " 'bahubali2',\n",
       " 'harrypotter',\n",
       " 'superman',\n",
       " 'rrr',\n",
       " 'the matrix',\n",
       " 'enter movie name',\n",
       " 'krish3: reloaded',\n",
       " 'enter movie name',\n",
       " 'enter movie name',\n",
       " 'enter movie name',\n",
       " 'enter movie name',\n",
       " 'enter movie name',\n",
       " 'enter movie name',\n",
       " 'enter movie name',\n",
       " '',\n",
       " 'maajhi',\n",
       " 'sholay']"
      ]
     },
     "execution_count": 18,
     "metadata": {},
     "output_type": "execute_result"
    }
   ],
   "source": [
    "movies"
   ]
  },
  {
   "cell_type": "code",
   "execution_count": 19,
   "metadata": {},
   "outputs": [],
   "source": [
    "movies.remove('enter movie name')"
   ]
  },
  {
   "cell_type": "code",
   "execution_count": 20,
   "metadata": {},
   "outputs": [
    {
     "name": "stdout",
     "output_type": "stream",
     "text": [
      "['stardust', 'the fault in our stars', 'mi1', 'mi2', 'mi3', 'mi4', 'mi5', 'mi6', 'kgf1', 'kgf2', 'bahubali1', 'bahubali2', 'harrypotter', 'superman', 'rrr', 'the matrix', 'krish3: reloaded', 'enter movie name', 'enter movie name', 'enter movie name', 'enter movie name', 'enter movie name', 'enter movie name', 'enter movie name', '', 'maajhi', 'sholay']\n"
     ]
    }
   ],
   "source": [
    "print(movies)"
   ]
  },
  {
   "cell_type": "code",
   "execution_count": 21,
   "metadata": {},
   "outputs": [
    {
     "data": {
      "text/plain": [
       "['stardust',\n",
       " 'the fault in our stars',\n",
       " 'mi1',\n",
       " 'mi2',\n",
       " 'mi3',\n",
       " 'mi4',\n",
       " 'mi5',\n",
       " 'mi6',\n",
       " 'kgf1',\n",
       " 'kgf2',\n",
       " 'bahubali1',\n",
       " 'bahubali2',\n",
       " 'harrypotter',\n",
       " 'superman',\n",
       " 'rrr',\n",
       " 'the matrix',\n",
       " 'krish3: reloaded',\n",
       " 'enter movie name',\n",
       " 'enter movie name',\n",
       " 'enter movie name',\n",
       " 'enter movie name',\n",
       " 'enter movie name',\n",
       " 'enter movie name',\n",
       " 'enter movie name',\n",
       " '',\n",
       " 'maajhi',\n",
       " 'sholay']"
      ]
     },
     "execution_count": 21,
     "metadata": {},
     "output_type": "execute_result"
    }
   ],
   "source": [
    "movies"
   ]
  },
  {
   "cell_type": "code",
   "execution_count": 22,
   "metadata": {},
   "outputs": [
    {
     "data": {
      "text/plain": [
       "'mi2'"
      ]
     },
     "execution_count": 22,
     "metadata": {},
     "output_type": "execute_result"
    }
   ],
   "source": [
    "movies.pop(3)"
   ]
  },
  {
   "cell_type": "code",
   "execution_count": 24,
   "metadata": {},
   "outputs": [
    {
     "name": "stdout",
     "output_type": "stream",
     "text": [
      "mi6\n"
     ]
    }
   ],
   "source": [
    "movie_removed = movies.pop(5)\n",
    "print(movie_removed)"
   ]
  },
  {
   "attachments": {},
   "cell_type": "markdown",
   "metadata": {},
   "source": [
    "# extend"
   ]
  },
  {
   "cell_type": "code",
   "execution_count": 25,
   "metadata": {},
   "outputs": [],
   "source": [
    "x = [1,2,3]\n",
    "y = [4,5,6]"
   ]
  },
  {
   "cell_type": "code",
   "execution_count": 26,
   "metadata": {},
   "outputs": [
    {
     "data": {
      "text/plain": [
       "[1, 2, 3, 4, 5, 6]"
      ]
     },
     "execution_count": 26,
     "metadata": {},
     "output_type": "execute_result"
    }
   ],
   "source": [
    "x+y"
   ]
  },
  {
   "cell_type": "code",
   "execution_count": 27,
   "metadata": {},
   "outputs": [
    {
     "name": "stdout",
     "output_type": "stream",
     "text": [
      "[1, 2, 3, 4, 5, 6]\n"
     ]
    }
   ],
   "source": [
    "\n",
    "x.extend(y)\n",
    "print(x)"
   ]
  },
  {
   "cell_type": "code",
   "execution_count": 28,
   "metadata": {},
   "outputs": [
    {
     "name": "stdout",
     "output_type": "stream",
     "text": [
      "['sholay', 'maajhi', '', 'enter movie name', 'enter movie name', 'enter movie name', 'enter movie name', 'enter movie name', 'enter movie name', 'enter movie name', 'krish3: reloaded', 'the matrix', 'rrr', 'superman', 'harrypotter', 'bahubali2', 'bahubali1', 'kgf2', 'kgf1', 'mi4', 'mi3', 'mi1', 'the fault in our stars', 'stardust']\n"
     ]
    }
   ],
   "source": [
    "movies.reverse()\n",
    "print(movies)"
   ]
  },
  {
   "cell_type": "code",
   "execution_count": 30,
   "metadata": {},
   "outputs": [
    {
     "name": "stdout",
     "output_type": "stream",
     "text": [
      "['the matrix', 'the fault in our stars', 'superman', 'stardust', 'sholay', 'rrr', 'mi4', 'mi3', 'mi1', 'maajhi', 'krish3: reloaded', 'kgf2', 'kgf1', 'harrypotter', 'enter movie name', 'enter movie name', 'enter movie name', 'enter movie name', 'enter movie name', 'enter movie name', 'enter movie name', 'bahubali2', 'bahubali1', '']\n"
     ]
    }
   ],
   "source": [
    "movies.sort(reverse=True)\n",
    "print(movies)"
   ]
  },
  {
   "cell_type": "code",
   "execution_count": 31,
   "metadata": {},
   "outputs": [
    {
     "data": {
      "text/plain": [
       "7"
      ]
     },
     "execution_count": 31,
     "metadata": {},
     "output_type": "execute_result"
    }
   ],
   "source": [
    "movies.count('enter movie name')"
   ]
  },
  {
   "cell_type": "code",
   "execution_count": 32,
   "metadata": {},
   "outputs": [
    {
     "name": "stdout",
     "output_type": "stream",
     "text": [
      "[1, 2, 3, 4, 5, 6]\n"
     ]
    }
   ],
   "source": [
    "z = x.copy()\n",
    "print(z)"
   ]
  },
  {
   "cell_type": "code",
   "execution_count": 33,
   "metadata": {},
   "outputs": [
    {
     "name": "stdout",
     "output_type": "stream",
     "text": [
      "[1, 2, 3, 4, 5, 6]\n"
     ]
    }
   ],
   "source": [
    "a=z\n",
    "print(a)"
   ]
  },
  {
   "cell_type": "code",
   "execution_count": null,
   "metadata": {},
   "outputs": [],
   "source": []
  }
 ],
 "metadata": {
  "kernelspec": {
   "display_name": "base",
   "language": "python",
   "name": "python3"
  },
  "language_info": {
   "codemirror_mode": {
    "name": "ipython",
    "version": 3
   },
   "file_extension": ".py",
   "mimetype": "text/x-python",
   "name": "python",
   "nbconvert_exporter": "python",
   "pygments_lexer": "ipython3",
   "version": "3.10.9"
  },
  "orig_nbformat": 4,
  "vscode": {
   "interpreter": {
    "hash": "9be1456dddb5e67482e7a79bc03352c44ecdf22f049d6e9e3ba7cb6f7f9ec082"
   }
  }
 },
 "nbformat": 4,
 "nbformat_minor": 2
}
