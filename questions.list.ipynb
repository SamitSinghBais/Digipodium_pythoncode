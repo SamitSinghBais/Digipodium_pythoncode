{
 "cells": [
  {
   "cell_type": "code",
   "execution_count": 62,
   "metadata": {},
   "outputs": [
    {
     "name": "stdout",
     "output_type": "stream",
     "text": [
      "['1,2,3,4,5']\n"
     ]
    }
   ],
   "source": [
    "empty_list = []\n",
    "item = input('enter the item')\n",
    "empty_list.append(item)\n",
    "\n",
    "print(empty_list)"
   ]
  },
  {
   "cell_type": "code",
   "execution_count": 63,
   "metadata": {},
   "outputs": [
    {
     "name": "stdout",
     "output_type": "stream",
     "text": [
      "found at index 3\n"
     ]
    }
   ],
   "source": [
    "main_list = [2,4,6,8,1,3,5,7,9]\n",
    "search_list = int(input(\"enter the number:\"))\n",
    "if search_list in main_list:\n",
    "    print('found at index',main_list.index(search_list))\n",
    "else:\n",
    "    print('not found in the list')"
   ]
  },
  {
   "cell_type": "code",
   "execution_count": 22,
   "metadata": {},
   "outputs": [
    {
     "name": "stdout",
     "output_type": "stream",
     "text": [
      "['ethan', 'jordan', 'murgan', 'raja', 'rama', 'yasmeen', 'zoya']\n"
     ]
    }
   ],
   "source": [
    "str_list = ['rama','raja','jordan','murgan','ethan','zoya','yasmeen']\n",
    "str_list.sort()\n",
    "print(str_list)"
   ]
  },
  {
   "cell_type": "code",
   "execution_count": 24,
   "metadata": {},
   "outputs": [
    {
     "name": "stdout",
     "output_type": "stream",
     "text": [
      "90\n"
     ]
    }
   ],
   "source": [
    "x = [2,4,83,48,36,58,35,52,69,90,83,24]\n",
    "y = max(x)\n",
    "print(y)"
   ]
  },
  {
   "cell_type": "code",
   "execution_count": 50,
   "metadata": {},
   "outputs": [
    {
     "name": "stdout",
     "output_type": "stream",
     "text": [
      "the common element is [22, 33]\n"
     ]
    }
   ],
   "source": [
    "a = [11,22,33,44,55]\n",
    "b = [22,33,77,88,99]\n",
    "c = []\n",
    "for i in a:\n",
    "    if i in b:\n",
    "        c.append(i)\n",
    "print('the common element is',c)"
   ]
  },
  {
   "cell_type": "code",
   "execution_count": 69,
   "metadata": {},
   "outputs": [
    {
     "name": "stdout",
     "output_type": "stream",
     "text": [
      "[[12, 15, 0], [13, 15, 25], [14, 15, 25], [16, 16, 66], [18, 15, 55]]\n"
     ]
    }
   ],
   "source": [
    "nest_list = [[[12, 15, 0], [13, 15, 25], [14, 15, 25], [16, 16, 66], [18, 15, 55]]]\n",
    "c = (nest_list[-1])\n",
    "print(c)"
   ]
  },
  {
   "cell_type": "code",
   "execution_count": 28,
   "metadata": {},
   "outputs": [
    {
     "name": "stdout",
     "output_type": "stream",
     "text": [
      "final list is : [1, 3, 5, 6, 12, 2]\n"
     ]
    }
   ],
   "source": [
    "\n",
    "test_list = [1, 3, 5, 6, 3, 5, 6, 1,1,1,1,12,2,2,2,]\n",
    "res = []\n",
    "[res.append(x) for x in test_list if x not in res]\n",
    "print (\"final list is : \"+ str(res))"
   ]
  },
  {
   "cell_type": "code",
   "execution_count": 44,
   "metadata": {},
   "outputs": [
    {
     "name": "stdout",
     "output_type": "stream",
     "text": [
      "longest string is : saiyonara\n"
     ]
    }
   ],
   "source": [
    "\n",
    "test_list = ['samit', 'anshu', 'anshul', 'zoha', 'ritesh','gracias','saiyonara']\n",
    "max_len = -1\n",
    "for ele in test_list:\n",
    "    if len(ele) > max_len:\n",
    "        max_len = len(ele)\n",
    "        res = ele\n",
    "print(\"longest string is : \" + res)"
   ]
  },
  {
   "cell_type": "code",
   "execution_count": 58,
   "metadata": {},
   "outputs": [
    {
     "name": "stdout",
     "output_type": "stream",
     "text": [
      "26\n"
     ]
    }
   ],
   "source": [
    "mylist = [1, 3, 5, 6, 8, 10,  2, 0, 3]\n",
    "result = 0\n",
    "for i in mylist:\n",
    "    if not i%2:\n",
    "           result += i\n",
    "print(result)\n"
   ]
  },
  {
   "cell_type": "code",
   "execution_count": 70,
   "metadata": {},
   "outputs": [
    {
     "name": "stdout",
     "output_type": "stream",
     "text": [
      "[1, 3, 5, 6, 10, 2, 0, 3]\n"
     ]
    }
   ],
   "source": [
    "mylist = [1, 3, 5, 6, 8, 10,  2, 0, 3]\n",
    "n = int(input('enter placevalue'))\n",
    "mylist.pop(n)\n",
    "print(mylist)"
   ]
  },
  {
   "cell_type": "code",
   "execution_count": 71,
   "metadata": {},
   "outputs": [
    {
     "name": "stdout",
     "output_type": "stream",
     "text": [
      "['jok', 'laugh', 'talk', 'mov', 'like', 'hate', 'narrate']\n"
     ]
    }
   ],
   "source": [
    "s = ['joking','laughing','talking','moving','like','hate','narrate']\n",
    "k = [sub.replace('ing','')for sub in s]\n",
    "print(k)"
   ]
  },
  {
   "cell_type": "code",
   "execution_count": 73,
   "metadata": {},
   "outputs": [
    {
     "name": "stdout",
     "output_type": "stream",
     "text": [
      "my name is aries\n"
     ]
    }
   ],
   "source": [
    "x = ['my', 'name', 'is','aries']\n",
    "x = ' '.join(x)\n",
    "print(x)"
   ]
  },
  {
   "cell_type": "code",
   "execution_count": 76,
   "metadata": {},
   "outputs": [
    {
     "name": "stdout",
     "output_type": "stream",
     "text": [
      "12.5\n",
      "4\n"
     ]
    }
   ],
   "source": [
    "l = [3,5,7,12,13,14,21,23]\n",
    "l.sort()\n",
    "mid = len(l)//2\n",
    "x = (l[mid] + l[~mid])/2\n",
    "print(x)\n",
    "print(mid)"
   ]
  },
  {
   "cell_type": "code",
   "execution_count": 77,
   "metadata": {},
   "outputs": [
    {
     "name": "stdout",
     "output_type": "stream",
     "text": [
      "reversed list ['aries', 'is', 'name', 'my']\n"
     ]
    }
   ],
   "source": [
    "y = ['my', 'name', 'is','aries']\n",
    "y.reverse()\n",
    "print('reversed list',y)"
   ]
  },
  {
   "cell_type": "code",
   "execution_count": 78,
   "metadata": {},
   "outputs": [
    {
     "name": "stdout",
     "output_type": "stream",
     "text": [
      "['my', 'name', 'is', 'aries']\n"
     ]
    }
   ],
   "source": [
    "y = ['my', 'name', 'is','aries']\n",
    "rev_list = y[::-1]\n",
    "print(y)"
   ]
  },
  {
   "cell_type": "code",
   "execution_count": 86,
   "metadata": {},
   "outputs": [
    {
     "name": "stdout",
     "output_type": "stream",
     "text": [
      "66\n",
      "11\n",
      "6.0\n"
     ]
    }
   ],
   "source": [
    "z = [1,2,3,4,5,6,7,8,9,10,11]\n",
    "Sum = sum(z)\n",
    "print(Sum)\n",
    "l = len(z)\n",
    "print(l)\n",
    "avg = Sum/l\n",
    "print(avg)"
   ]
  },
  {
   "cell_type": "code",
   "execution_count": 90,
   "metadata": {},
   "outputs": [
    {
     "name": "stdout",
     "output_type": "stream",
     "text": [
      "the inedx is 8\n"
     ]
    }
   ],
   "source": [
    "list = [1,2,3,4,5,6,7,8,9,10,11]\n",
    "print(\"the inedx is\",list.index(9))"
   ]
  },
  {
   "cell_type": "code",
   "execution_count": 97,
   "metadata": {},
   "outputs": [
    {
     "name": "stdout",
     "output_type": "stream",
     "text": [
      "['i', 'hate', 'mocking']\n"
     ]
    }
   ],
   "source": [
    "n = [\"                 i\",\"           hate          \",\"         mocking        \"]\n",
    "x = [x.strip() for x in n]\n",
    "print(x)"
   ]
  },
  {
   "cell_type": "code",
   "execution_count": 98,
   "metadata": {},
   "outputs": [
    {
     "name": "stdout",
     "output_type": "stream",
     "text": [
      "[11, 10, 9, 8, 7, 6, 5, 4, 3, 2, 1]\n"
     ]
    }
   ],
   "source": [
    "d = [1,2,3,4,5,6,7,8,9,10,11]\n",
    "d.sort(reverse=True)\n",
    "print(d)"
   ]
  },
  {
   "cell_type": "code",
   "execution_count": 99,
   "metadata": {},
   "outputs": [
    {
     "name": "stdout",
     "output_type": "stream",
     "text": [
      "new value is : 99\n",
      "[99, 1, 2, 3, 4, 5, 6, 7, 8, 9, 10, 11]\n"
     ]
    }
   ],
   "source": [
    "u = [1,2,3,4,5,6,7,8,9,10,11]\n",
    "n = int(input(\"enter the new value\"))\n",
    "print(\"new value is :\",n)\n",
    "u = [n] + u\n",
    "print(u)\n"
   ]
  },
  {
   "cell_type": "code",
   "execution_count": 104,
   "metadata": {},
   "outputs": [
    {
     "name": "stdout",
     "output_type": "stream",
     "text": [
      "[1, 2, 3, 4, 5, 6, 7, 8, 9, 10, 11]\n"
     ]
    }
   ],
   "source": [
    "a = [1,2,3,4,5,6]\n",
    "b = [7,8,9,10,11]\n",
    "for i in b:\n",
    "    a.append(i)\n",
    "print(a)"
   ]
  },
  {
   "cell_type": "code",
   "execution_count": 105,
   "metadata": {},
   "outputs": [
    {
     "name": "stdout",
     "output_type": "stream",
     "text": [
      "the area of the circle with diameter 14.0 is: 153.93804002589985 cm \n",
      "the circumference of the circle with diameter 14.0 is: 43.982297150257104 cm \n"
     ]
    }
   ],
   "source": [
    "from math import pi\n",
    "d = float(input (\"input the diameter of the circle : \"))\n",
    "print (\"the area of the circle with diameter \" + str(d) + \" is: \" + str (pi * (d/2)**2) + \" cm \")\n",
    "print (\"the circumference of the circle with diameter \" + str(d) + \" is: \" + str (2 * pi * (d/2)) + \" cm \")"
   ]
  },
  {
   "cell_type": "code",
   "execution_count": 8,
   "metadata": {},
   "outputs": [
    {
     "name": "stdout",
     "output_type": "stream",
     "text": [
      "Square the elements of the said list using map(): [4, 16, 36, 64, 100, 144, 196, 256, 324, 400]\n"
     ]
    }
   ],
   "source": [
    "def square_num(n):\n",
    "  return n * n\n",
    "nums = [2,4,6,8,10,12,14,16,18,20]\n",
    "result = map(square_num, nums)\n",
    "print(\"Square the elements of the said list using map():\",list(result))\n"
   ]
  },
  {
   "cell_type": "code",
   "execution_count": 4,
   "metadata": {},
   "outputs": [
    {
     "name": "stdout",
     "output_type": "stream",
     "text": [
      "[1, 4, 9, 16, 25, 36, 49, 64, 81]\n"
     ]
    }
   ],
   "source": [
    "s = [1,2,3,4,5,6,7,8,9]\n",
    "b = filter(lambda a:a>0,s)\n",
    "str =map(lambda a:a*a,b)\n",
    "\n",
    "print(list(str))"
   ]
  },
  {
   "cell_type": "code",
   "execution_count": 31,
   "metadata": {},
   "outputs": [
    {
     "name": "stdout",
     "output_type": "stream",
     "text": [
      "[15, 20, 25, 30, 35, 40]\n"
     ]
    }
   ],
   "source": [
    "k = [5,10,15,20,25,30]\n",
    "result = list(map(lambda a:a+10,k))\n",
    "print(result)"
   ]
  },
  {
   "cell_type": "code",
   "execution_count": 32,
   "metadata": {},
   "outputs": [
    {
     "name": "stdout",
     "output_type": "stream",
     "text": [
      "The list of matching first letter : ['Akash', 'Nikhil', 'Manjeet', 'akshat']\n"
     ]
    }
   ],
   "source": [
    "test_list = ['Akash', 'Nikhil', 'Manjeet', 'akshat']\n",
    " \n",
    "q = filter(lambda x:x>0,test_list)\n",
    " \n",
    "res = list(map(lambda x:x if len(x)  else x ==0, test_list))\n",
    "\n",
    "print(\"The list of matching first letter : \" + str(res))"
   ]
  },
  {
   "cell_type": "code",
   "execution_count": 29,
   "metadata": {},
   "outputs": [
    {
     "ename": "TypeError",
     "evalue": "'map' object is not callable",
     "output_type": "error",
     "traceback": [
      "\u001b[1;31m---------------------------------------------------------------------------\u001b[0m",
      "\u001b[1;31mTypeError\u001b[0m                                 Traceback (most recent call last)",
      "Cell \u001b[1;32mIn[29], line 3\u001b[0m\n\u001b[0;32m      1\u001b[0m l \u001b[39m=\u001b[39m \u001b[39minput\u001b[39m(\u001b[39m\"\u001b[39m\u001b[39menter the temperature in celsius\u001b[39m\u001b[39m\"\u001b[39m)\n\u001b[0;32m      2\u001b[0m result \u001b[39m=\u001b[39m \u001b[39mmap\u001b[39m(\u001b[39mlambda\u001b[39;00m a:a\u001b[39m*\u001b[39m\u001b[39m1.8\u001b[39m\u001b[39m+\u001b[39m\u001b[39m32\u001b[39m,l)\n\u001b[1;32m----> 3\u001b[0m \u001b[39mprint\u001b[39m(\u001b[39mstr\u001b[39;49m(result))\n",
      "\u001b[1;31mTypeError\u001b[0m: 'map' object is not callable"
     ]
    }
   ],
   "source": [
    "l = input(\"enter the temperature in celsius\")\n",
    "result = map(lambda a:a*1.8+32,l)\n",
    "print(str(result))"
   ]
  },
  {
   "cell_type": "code",
   "execution_count": 12,
   "metadata": {},
   "outputs": [
    {
     "name": "stdout",
     "output_type": "stream",
     "text": [
      "[5, 10, 15, 20, 25, 30]\n"
     ]
    }
   ],
   "source": [
    "h = [5,10,-15,20,-25,30]\n",
    "result = list(map(lambda a:abs(a),h))\n",
    "print(result)"
   ]
  },
  {
   "cell_type": "code",
   "execution_count": 17,
   "metadata": {},
   "outputs": [
    {
     "name": "stdout",
     "output_type": "stream",
     "text": [
      "[4, 6, 4, 7]\n"
     ]
    }
   ],
   "source": [
    "r = ['java','python','html','fortron']\n",
    "result = list(map(len,r))\n",
    "print(result)"
   ]
  },
  {
   "cell_type": "code",
   "execution_count": 43,
   "metadata": {},
   "outputs": [
    {
     "name": "stdout",
     "output_type": "stream",
     "text": [
      "[2, 4, 6, 8]\n"
     ]
    }
   ],
   "source": [
    "e = [2,3,4,5,6,7,8,9,]\n",
    "result = list(filter(lambda a:a%2==0,e))\n",
    "print(result)"
   ]
  },
  {
   "cell_type": "code",
   "execution_count": 41,
   "metadata": {},
   "outputs": [
    {
     "ename": "TypeError",
     "evalue": "'int' object is not iterable",
     "output_type": "error",
     "traceback": [
      "\u001b[1;31m---------------------------------------------------------------------------\u001b[0m",
      "\u001b[1;31mTypeError\u001b[0m                                 Traceback (most recent call last)",
      "Cell \u001b[1;32mIn[41], line 5\u001b[0m\n\u001b[0;32m      3\u001b[0m     \u001b[39mif\u001b[39;00m i\u001b[39m%\u001b[39m\u001b[39m2\u001b[39m\u001b[39m==\u001b[39m\u001b[39m0\u001b[39m:\n\u001b[0;32m      4\u001b[0m         \u001b[39mreturn\u001b[39;00m \u001b[39mTrue\u001b[39;00m\n\u001b[1;32m----> 5\u001b[0m result \u001b[39m=\u001b[39m \u001b[39mlist\u001b[39m(\u001b[39mfilter\u001b[39;49m(even_numbers,e))\n",
      "\u001b[1;31mTypeError\u001b[0m: 'int' object is not iterable"
     ]
    }
   ],
   "source": [
    "e = int(input(\"enter the number\"))\n",
    "def even_numbers(i):\n",
    "    if i%2==0:\n",
    "        return True\n",
    "result = list(filter(even_numbers,e))\n"
   ]
  },
  {
   "cell_type": "code",
   "execution_count": null,
   "metadata": {},
   "outputs": [],
   "source": [
    "name = ('mango','banana','oranges')\n",
    "for i in name:\n",
    "  \n",
    "  if len(i) > 0:\n",
    "    firstChar = i[0]\n",
    "    print(f'First character : {firstChar}')\n",
    "  else:\n",
    "    print('The string is empty. Please check.')"
   ]
  }
 ],
 "metadata": {
  "kernelspec": {
   "display_name": "base",
   "language": "python",
   "name": "python3"
  },
  "language_info": {
   "codemirror_mode": {
    "name": "ipython",
    "version": 3
   },
   "file_extension": ".py",
   "mimetype": "text/x-python",
   "name": "python",
   "nbconvert_exporter": "python",
   "pygments_lexer": "ipython3",
   "version": "3.10.9"
  },
  "orig_nbformat": 4,
  "vscode": {
   "interpreter": {
    "hash": "9be1456dddb5e67482e7a79bc03352c44ecdf22f049d6e9e3ba7cb6f7f9ec082"
   }
  }
 },
 "nbformat": 4,
 "nbformat_minor": 2
}
